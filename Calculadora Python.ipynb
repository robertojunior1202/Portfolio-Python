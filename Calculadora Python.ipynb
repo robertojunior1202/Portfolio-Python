{
 "cells": [
  {
   "cell_type": "code",
   "execution_count": 2,
   "id": "8cfee8a2-ec3f-4dc9-a37a-f64fc5a926b7",
   "metadata": {},
   "outputs": [
    {
     "name": "stdout",
     "output_type": "stream",
     "text": [
      "OLÁ, SEJA BEM VINDO A CALCULADORA PYTHON\n",
      "Escolha a operação:\n",
      "[1] - Soma\n",
      "[2] - Subtração\n",
      "[3] - Divisão\n",
      "[4] - Multiplicação\n",
      "[5] - Exponenciação\n",
      "\n",
      "Digite abaixo a operação desejada:\n"
     ]
    },
    {
     "name": "stdin",
     "output_type": "stream",
     "text": [
      " 1\n"
     ]
    },
    {
     "name": "stdout",
     "output_type": "stream",
     "text": [
      "OPERAÇÂO DE SOMA SELECIONADA ......\n",
      "-----------------------------------------\n",
      "\n",
      "\n",
      "Insira o primeiro número:\n"
     ]
    },
    {
     "name": "stdin",
     "output_type": "stream",
     "text": [
      " 1\n"
     ]
    },
    {
     "name": "stdout",
     "output_type": "stream",
     "text": [
      "Insira o segundo número:\n"
     ]
    },
    {
     "name": "stdin",
     "output_type": "stream",
     "text": [
      " 1\n"
     ]
    },
    {
     "name": "stdout",
     "output_type": "stream",
     "text": [
      "O resultado da soma é 2\n",
      "\n",
      "\n",
      "Deseja realizar outra operação?\n",
      "[1] - SIM\n",
      "[2] - NÃO\n"
     ]
    },
    {
     "name": "stdin",
     "output_type": "stream",
     "text": [
      " 2\n"
     ]
    },
    {
     "name": "stdout",
     "output_type": "stream",
     "text": [
      "OBRIGADO, ATÉ MAIS !!!\n"
     ]
    }
   ],
   "source": [
    "#CALCULADORA\n",
    "print ('OLÁ, SEJA BEM VINDO A CALCULADORA PYTHON')\n",
    "controle = 1\n",
    "while controle ==1:\n",
    "    print('Escolha a operação:')\n",
    "    print('[1] - Soma')\n",
    "    print('[2] - Subtração')\n",
    "    print('[3] - Divisão')\n",
    "    print('[4] - Multiplicação')\n",
    "    print('[5] - Exponenciação' '\\n')\n",
    "    print('Digite abaixo a operação desejada:')\n",
    "    x = int(input())\n",
    "    \n",
    "    #Soma\n",
    "    if x ==1:\n",
    "        print('OPERAÇÂO DE SOMA SELECIONADA ......')\n",
    "        print('-----------------------------------------')\n",
    "        print('\\n')\n",
    "        print('Insira o primeiro número:')\n",
    "        a = int(input())\n",
    "        print('Insira o segundo número:')\n",
    "        b = int(input())\n",
    "        soma = a+b\n",
    "        print('O resultado da soma é {}'.format(soma))\n",
    "        print('\\n')\n",
    "        print('Deseja realizar outra operação?')\n",
    "        print('[1] - SIM')\n",
    "        print('[2] - NÃO')\n",
    "        controle = int(input())\n",
    "      \n",
    "    #Subtração\n",
    "    if x ==2:\n",
    "        print('OPERAÇÂO DE SUBTRAÇÃO SELECIONADA ......')\n",
    "        print('-----------------------------------------')\n",
    "        print('\\n')\n",
    "        print('Insira o primeiro número:')\n",
    "        a = int(input())\n",
    "        print('Insira o segundo número:')\n",
    "        b = int(input())\n",
    "        soma = a-b\n",
    "        print('O resultado da subtração é {}'.format(soma))\n",
    "        print('\\n')\n",
    "        print('Deseja realizar outra operação?')\n",
    "        print('[1] - SIM')\n",
    "        print('[2] - NÃO')\n",
    "        controle = int(input())\n",
    "        \n",
    "    #Divisao\n",
    "    if x ==3:\n",
    "        print('OPERAÇÂO DE DIVISÃO SELECIONADA ......')\n",
    "        print('-----------------------------------------')\n",
    "        print('\\n')\n",
    "        print('Insira o primeiro número:')\n",
    "        a = int(input())\n",
    "        print('Insira o segundo número:')\n",
    "        b = int(input())\n",
    "        soma = a/b\n",
    "        print('O resultado da divisão é {}'.format(soma))\n",
    "        print('\\n')\n",
    "        print('Deseja realizar outra operação?')\n",
    "        print('[1] - SIM')\n",
    "        print('[2] - NÃO')\n",
    "        controle = int(input())\n",
    "\n",
    "    #Multiplicação\n",
    "    if x ==4:\n",
    "        print('OPERAÇÂO DE MULTIPLICAÇÃO SELECIONADA ......')\n",
    "        print('-----------------------------------------')\n",
    "        print('\\n')\n",
    "        print('Insira o primeiro número:')\n",
    "        a = int(input())\n",
    "        print('Insira o segundo número:')\n",
    "        b = int(input())\n",
    "        soma = a*b\n",
    "        print('O resultado da multiplicação é {}'.format(soma))\n",
    "        print('\\n')\n",
    "        print('Deseja realizar outra operação?')\n",
    "        print('[1] - SIM')\n",
    "        print('[2] - NÃO')\n",
    "        controle = int(input())\n",
    "\n",
    "    #Exponenciação\n",
    "    if x ==5:\n",
    "        print('OPERAÇÂO DE EXPONENCIAÇÃO SELECIONADA ......')\n",
    "        print('-----------------------------------------')\n",
    "        print('\\n')\n",
    "        print('Insira o primeiro número:')\n",
    "        a = int(input())\n",
    "        print('Insira o segundo número:')\n",
    "        b = int(input())\n",
    "        soma = a**b\n",
    "        print('O resultado da exponenciação é {}'.format(soma))\n",
    "        print('\\n')\n",
    "        print('Deseja realizar outra operação?')\n",
    "        print('[1] - SIM')\n",
    "        print('[2] - NÃO')\n",
    "        controle = int(input())\n",
    "print('OBRIGADO, ATÉ MAIS !!!')"
   ]
  },
  {
   "cell_type": "code",
   "execution_count": null,
   "id": "88f0c7b8-6f4e-4fea-82f4-ed4c30447e5e",
   "metadata": {},
   "outputs": [],
   "source": []
  }
 ],
 "metadata": {
  "kernelspec": {
   "display_name": "Python 3 (ipykernel)",
   "language": "python",
   "name": "python3"
  },
  "language_info": {
   "codemirror_mode": {
    "name": "ipython",
    "version": 3
   },
   "file_extension": ".py",
   "mimetype": "text/x-python",
   "name": "python",
   "nbconvert_exporter": "python",
   "pygments_lexer": "ipython3",
   "version": "3.9.13"
  }
 },
 "nbformat": 4,
 "nbformat_minor": 5
}
